{
  "cells": [
    {
      "cell_type": "markdown",
      "metadata": {
        "id": "cnSMKsiuvhMz"
      },
      "source": [
        "# Investment Strategies Analysis\n",
        "### Analysis of the investment strategies' outcome with the obtained data"
      ]
    },
    {
      "cell_type": "markdown",
      "metadata": {
        "id": "66y3HghXv1cb"
      },
      "source": [
        "## Loading libraries and data"
      ]
    },
    {
      "cell_type": "code",
      "execution_count": null,
      "metadata": {
        "id": "CfdKzdqOveeb"
      },
      "outputs": [],
      "source": [
        "import pandas as pd\n",
        "import matplotlib.pyplot as plt\n",
        "import seaborn as sns\n",
        "import numpy as np"
      ]
    },
    {
      "cell_type": "code",
      "execution_count": null,
      "metadata": {
        "colab": {
          "base_uri": "https://localhost:8080/",
          "height": 363
        },
        "id": "1gYIlScTwSWY",
        "outputId": "8dda6b2a-09e3-4829-9538-3ed533cf6cd0"
      },
      "outputs": [],
      "source": [
        "df = pd.read_csv('./outputs/data_generation/portfolio_metrics.csv')\n",
        "df.head(10)\n",
        "\n",
        "# Assets: stocks, corporate bonds, public bonds, gold, cash"
      ]
    },
    {
      "cell_type": "code",
      "execution_count": null,
      "metadata": {},
      "outputs": [],
      "source": [
        "# ccorrelation matrix\n",
        "corr = df.corr()\n",
        "\n",
        "# heatmap\n",
        "\n",
        "\n",
        "# change colours of heatmap\n",
        "sns.heatmap(corr,\n",
        "        xticklabels=corr.columns,\n",
        "        yticklabels=corr.columns,\n",
        "        cmap='hot')\n",
        "plt.show()\n",
        "\n",
        "# types of cmap: https://matplotlib.org/3.1.0/tutorials/colors/colormaps.html"
      ]
    },
    {
      "attachments": {},
      "cell_type": "markdown",
      "metadata": {},
      "source": [
        "Now let's look at the assets individually in the portfolio"
      ]
    },
    {
      "cell_type": "code",
      "execution_count": null,
      "metadata": {},
      "outputs": [],
      "source": [
        "# portfolios with 1 asset individually\n",
        "df100 = df[df.isin([100]).any(axis=1)]\n",
        "df100.head()"
      ]
    },
    {
      "attachments": {},
      "cell_type": "markdown",
      "metadata": {
        "id": "jn2RDW6dxV4G"
      },
      "source": [
        "## 1.1. Distribution of obtained returns "
      ]
    },
    {
      "cell_type": "code",
      "execution_count": null,
      "metadata": {},
      "outputs": [],
      "source": [
        "print('Return Statistics:')\n",
        "print('------------------')\n",
        "print(df['RETURN'].describe())"
      ]
    },
    {
      "cell_type": "code",
      "execution_count": null,
      "metadata": {},
      "outputs": [],
      "source": [
        "# portfolios with 1 asset individually\n",
        "df100 = df[df.isin([100]).any(axis=1)]\n",
        "df100.head()"
      ]
    },
    {
      "cell_type": "code",
      "execution_count": null,
      "metadata": {},
      "outputs": [],
      "source": [
        "# return the rows with the highest return\n",
        "df.nlargest(10, 'RETURN')"
      ]
    },
    {
      "cell_type": "code",
      "execution_count": null,
      "metadata": {},
      "outputs": [],
      "source": [
        "\n",
        "# return the rows with the lowest return\n",
        "df.nsmallest(10, 'RETURN')"
      ]
    },
    {
      "cell_type": "code",
      "execution_count": null,
      "metadata": {},
      "outputs": [],
      "source": [
        "# probability of a negative return\n",
        "print()\n",
        "print('Probability of a negative return:')\n",
        "print('---------------------------------')\n",
        "print(df[df['RETURN'] < 0].shape[0] / df.shape[0])\n",
        "\n",
        "# probability of a positive return\n",
        "print()\n",
        "print('Probability of a positive return:')\n",
        "print('---------------------------------')\n",
        "print(df[df['RETURN'] > 0].shape[0] / df.shape[0])"
      ]
    },
    {
      "cell_type": "code",
      "execution_count": null,
      "metadata": {},
      "outputs": [],
      "source": [
        "# Plot a box plot of the returns using Seaborn\n",
        "sns.boxplot(data=df, x='RETURN')\n",
        "plt.title('Box Plot of Portfolio Returns')\n",
        "plt.show()"
      ]
    },
    {
      "cell_type": "code",
      "execution_count": null,
      "metadata": {
        "id": "rMcdEYXjxbWg"
      },
      "outputs": [],
      "source": [
        "# Plot a histogram of the returns\n",
        "sns.histplot(data=df, x='RETURN', bins=20, kde=True)\n",
        "plt.xlabel('Return')\n",
        "plt.ylabel('Frequency')\n",
        "plt.title('Distribution of Portfolio Returns')\n",
        "plt.show()\n",
        "\n"
      ]
    },
    {
      "cell_type": "code",
      "execution_count": null,
      "metadata": {},
      "outputs": [],
      "source": [
        "# probability distribution of the returns\n",
        "sns.histplot(data=df, x='RETURN', bins=20, kde=True, stat='probability')\n",
        "plt.xlabel('Return')\n",
        "plt.ylabel('Probability')\n",
        "plt.title('Probability Distribution of Portfolio Returns')\n",
        "plt.show()"
      ]
    },
    {
      "cell_type": "code",
      "execution_count": null,
      "metadata": {},
      "outputs": [],
      "source": [
        "# Plot a cumulative distribution function of the returns using Seaborn\n",
        "sns.histplot(data=df, x='RETURN', bins=20, cumulative=True, stat='density')\n",
        "plt.xlabel('Return')\n",
        "plt.ylabel('Probability')\n",
        "plt.title('Cumulative Distribution Function of Portfolio Returns')\n",
        "plt.show()"
      ]
    },
    {
      "attachments": {},
      "cell_type": "markdown",
      "metadata": {},
      "source": [
        "## 1.2. Distribution of obtained volatilities "
      ]
    },
    {
      "cell_type": "code",
      "execution_count": null,
      "metadata": {},
      "outputs": [],
      "source": [
        "print('Volatility Statistics')\n",
        "print('----------------------')\n",
        "print(df['VOLAT'].describe())"
      ]
    },
    {
      "cell_type": "code",
      "execution_count": null,
      "metadata": {},
      "outputs": [],
      "source": [
        "# portfolios with 1 asset individually\n",
        "df100 = df[df.isin([100]).any(axis=1)]\n",
        "df100.head()"
      ]
    },
    {
      "cell_type": "code",
      "execution_count": null,
      "metadata": {},
      "outputs": [],
      "source": [
        "\n",
        "# return the rows with the lowest volatility\n",
        "df.nsmallest(10, 'VOLAT')"
      ]
    },
    {
      "cell_type": "code",
      "execution_count": null,
      "metadata": {},
      "outputs": [],
      "source": [
        "# return the rows with the highest volatility\n",
        "df.nlargest(10, 'VOLAT')"
      ]
    },
    {
      "cell_type": "code",
      "execution_count": null,
      "metadata": {},
      "outputs": [],
      "source": [
        "# Plot a box plot of the returns using Seaborn\n",
        "sns.boxplot(data=df, x='VOLAT')\n",
        "plt.title('Box Plot of Portfolio Volatilities')\n",
        "plt.show()"
      ]
    },
    {
      "cell_type": "code",
      "execution_count": null,
      "metadata": {},
      "outputs": [],
      "source": [
        "# Plot a histogram of the returns\n",
        "sns.histplot(data=df, x='VOLAT', bins=20, kde=True)\n",
        "plt.xlabel('Volatility')\n",
        "plt.ylabel('Frequency')\n",
        "plt.title('Distribution of Portfolio Volatilities')\n",
        "plt.show()"
      ]
    },
    {
      "cell_type": "code",
      "execution_count": null,
      "metadata": {},
      "outputs": [],
      "source": [
        "# probability distribution of the returns\n",
        "sns.histplot(data=df, x='VOLAT', bins=20, kde=True, stat='probability')\n",
        "plt.xlabel('Volatility')\n",
        "plt.ylabel('Probability')\n",
        "plt.title('Probability Distribution of Portfolio Volatilities')\n",
        "plt.show()"
      ]
    },
    {
      "cell_type": "code",
      "execution_count": null,
      "metadata": {},
      "outputs": [],
      "source": [
        "# Plot a cumulative distribution function of the returns using Seaborn\n",
        "sns.histplot(data=df, x='VOLAT', bins=20, cumulative=True, stat='density')\n",
        "plt.xlabel('Volatility')\n",
        "plt.ylabel('Probability')\n",
        "plt.title('Cumulative Distribution Function of Portfolio Volatilities')\n",
        "plt.show()"
      ]
    },
    {
      "cell_type": "markdown",
      "metadata": {},
      "source": [
        "## 2. Return VS Risk "
      ]
    },
    {
      "cell_type": "code",
      "execution_count": null,
      "metadata": {},
      "outputs": [],
      "source": [
        "# Create a scatterplot of return vs. risk\n",
        "sns.scatterplot(data=df, x='VOLAT', y='RETURN')\n",
        "plt.xlabel('Volatility')\n",
        "plt.ylabel('Return')\n",
        "plt.title('Return vs. Risk')\n",
        "plt.show()"
      ]
    }
  ],
  "metadata": {
    "colab": {
      "provenance": []
    },
    "kernelspec": {
      "display_name": "Python 3",
      "name": "python3"
    },
    "language_info": {
      "codemirror_mode": {
        "name": "ipython",
        "version": 3
      },
      "file_extension": ".py",
      "mimetype": "text/x-python",
      "name": "python",
      "nbconvert_exporter": "python",
      "pygments_lexer": "ipython3",
      "version": "3.10.11"
    }
  },
  "nbformat": 4,
  "nbformat_minor": 0
}
